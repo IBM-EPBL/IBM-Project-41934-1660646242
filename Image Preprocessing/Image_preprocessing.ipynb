{
  "nbformat": 4,
  "nbformat_minor": 0,
  "metadata": {
    "colab": {
      "provenance": [],
      "collapsed_sections": []
    },
    "kernelspec": {
      "name": "python3",
      "display_name": "Python 3"
    },
    "language_info": {
      "name": "python"
    }
  },
  "cells": [
    {
      "cell_type": "code",
      "execution_count": 4,
      "metadata": {
        "id": "BvUoeuuT8J1T"
      },
      "outputs": [],
      "source": [
        "from keras.preprocessing.image import ImageDataGenerator \n",
        "train_datagen = ImageDataGenerator(rescale = 1./255, shear_range= 0.2,zoom_range= 0.2, horizontal_flip = True) \n",
        "test_datagen =ImageDataGenerator(rescale=1)\n"
      ]
    },
    {
      "cell_type": "code",
      "source": [
        "x_train = train_datagen.flow_from_directory(r'/content/drive/MyDrive/data set/train_set',target_size = (64,64), batch_size = 32, class_mode ='categorical')\n",
        "x_test = test_datagen.flow_from_directory(r'/content/drive/MyDrive/data set/test_set',target_size = (64,64), batch_size = 32, class_mode ='categorical')"
      ],
      "metadata": {
        "colab": {
          "base_uri": "https://localhost:8080/"
        },
        "id": "GPGQ-N_I8a2_",
        "outputId": "f0e82150-f7da-4f65-8956-8180b116ac04"
      },
      "execution_count": 5,
      "outputs": [
        {
          "output_type": "stream",
          "name": "stdout",
          "text": [
            "Found 24 images belonging to 4 classes.\n",
            "Found 0 images belonging to 4 classes.\n"
          ]
        }
      ]
    },
    {
      "cell_type": "code",
      "source": [],
      "metadata": {
        "id": "escDbaSvAZ4w"
      },
      "execution_count": null,
      "outputs": []
    }
  ]
}